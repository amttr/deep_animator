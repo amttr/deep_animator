{
 "cells": [
  {
   "cell_type": "code",
   "execution_count": null,
   "metadata": {},
   "outputs": [],
   "source": [
    "# default_exp modules.utils"
   ]
  },
  {
   "cell_type": "markdown",
   "metadata": {},
   "source": [
    "# Module Utils\n",
    "\n",
    "> Common network architectures."
   ]
  },
  {
   "cell_type": "code",
   "execution_count": null,
   "metadata": {},
   "outputs": [],
   "source": [
    "# hide\n",
    "from nbdev.showdoc import *"
   ]
  },
  {
   "cell_type": "code",
   "execution_count": null,
   "metadata": {},
   "outputs": [],
   "source": [
    "# export\n",
    "import torch\n",
    "import torch.nn.functional as F\n",
    "\n",
    "from torch import nn"
   ]
  },
  {
   "cell_type": "code",
   "execution_count": null,
   "metadata": {},
   "outputs": [],
   "source": [
    "# export\n",
    "class DownBlock2d(nn.Module):\n",
    "    \"\"\"Downsampling block for use in encoder.\"\"\"\n",
    "    def __init__(self, in_features, out_features, kernel_size=3, padding=1, groups=1):\n",
    "        super(DownBlock2d, self).__init__()\n",
    "        self.conv = nn.Conv2d(in_channels=in_features, out_channels=out_features, \n",
    "                              kernel_size=kernel_size, padding=padding, groups=groups)\n",
    "        self.norm = BatchNorm2d(out_features, affine=True)\n",
    "        self.pool = nn.AvgPool2d(kernel_size=(2, 2))\n",
    "\n",
    "    def forward(self, x):\n",
    "        out = self.conv(x)\n",
    "        out = self.norm(out)\n",
    "        out = F.relu(out)\n",
    "        out = self.pool(out)\n",
    "        return out"
   ]
  },
  {
   "cell_type": "code",
   "execution_count": null,
   "metadata": {},
   "outputs": [],
   "source": [
    "# export\n",
    "class UpBlock2d(nn.Module):\n",
    "    \"\"\"Upsampling block for use in decoder.\"\"\"\n",
    "    def __init__(self, in_features, out_features, kernel_size=3, padding=1, groups=1):\n",
    "        super(UpBlock2d, self).__init__()\n",
    "\n",
    "        self.conv = nn.Conv2d(in_channels=in_features, out_channels=out_features, \n",
    "                              kernel_size=kernel_size, padding=padding, groups=groups)\n",
    "        self.norm = BatchNorm2d(out_features, affine=True)\n",
    "\n",
    "    def forward(self, x):\n",
    "        out = F.interpolate(x, scale_factor=2)\n",
    "        out = self.conv(out)\n",
    "        out = self.norm(out)\n",
    "        out = F.relu(out)\n",
    "        return out"
   ]
  },
  {
   "cell_type": "code",
   "execution_count": null,
   "metadata": {},
   "outputs": [],
   "source": [
    "# export\n",
    "class Encoder(nn.Module):\n",
    "    \"\"\"Hourglass Encoder.\"\"\"\n",
    "\n",
    "    def __init__(self, block_expansion, in_features, num_blocks=3, max_features=256):\n",
    "        super(Encoder, self).__init__()\n",
    "\n",
    "        down_blocks = []\n",
    "        for i in range(num_blocks):\n",
    "            down_blocks.append(DownBlock2d(in_features if i == 0 else min(max_features, block_expansion * (2 ** i)),\n",
    "                                           min(max_features, block_expansion * (2 ** (i + 1))),\n",
    "                                           kernel_size=3, padding=1))\n",
    "        self.down_blocks = nn.ModuleList(down_blocks)\n",
    "\n",
    "    def forward(self, x):\n",
    "        outs = [x]\n",
    "        for down_block in self.down_blocks:\n",
    "            outs.append(down_block(outs[-1]))\n",
    "        return outs"
   ]
  },
  {
   "cell_type": "code",
   "execution_count": null,
   "metadata": {},
   "outputs": [],
   "source": [
    "# export\n",
    "class Decoder(nn.Module):\n",
    "    \"\"\"Hourglass Decoder.\"\"\"\n",
    "\n",
    "    def __init__(self, block_expansion, in_features, num_blocks=3, max_features=256):\n",
    "        super(Decoder, self).__init__()\n",
    "\n",
    "        up_blocks = []\n",
    "        for i in range(num_blocks)[::-1]:\n",
    "            in_filters = (1 if i == num_blocks - 1 else 2) * min(max_features, block_expansion * (2 ** (i + 1)))\n",
    "            out_filters = min(max_features, block_expansion * (2 ** i))\n",
    "            up_blocks.append(UpBlock2d(in_filters, out_filters, kernel_size=3, padding=1))\n",
    "\n",
    "        self.up_blocks = nn.ModuleList(up_blocks)\n",
    "        self.out_filters = block_expansion + in_features\n",
    "\n",
    "    def forward(self, x):\n",
    "        out = x.pop()\n",
    "        for up_block in self.up_blocks:\n",
    "            out = up_block(out)\n",
    "            skip = x.pop()\n",
    "            out = torch.cat([out, skip], dim=1)\n",
    "        return out"
   ]
  },
  {
   "cell_type": "code",
   "execution_count": null,
   "metadata": {},
   "outputs": [],
   "source": [
    "# export\n",
    "class Hourglass(nn.Module):\n",
    "    \"\"\"Hourglass architecture.\"\"\"\n",
    "    def __init__(self, block_expansion, in_features, num_blocks=3, max_features=256):\n",
    "        super(Hourglass, self).__init__()\n",
    "        self.encoder = Encoder(block_expansion, in_features, num_blocks, max_features)\n",
    "        self.decoder = Decoder(block_expansion, in_features, num_blocks, max_features)\n",
    "        self.out_filters = self.decoder.out_filters\n",
    "\n",
    "    def forward(self, x):\n",
    "        return self.decoder(self.encoder(x))"
   ]
  },
  {
   "cell_type": "code",
   "execution_count": null,
   "metadata": {},
   "outputs": [],
   "source": [
    "class AntiAliasInterpolation2d(nn.Module):\n",
    "    \"\"\"Band-limited downsampling, for better preservation of the input signal.\"\"\"\n",
    "    def __init__(self, channels, scale):\n",
    "        super(AntiAliasInterpolation2d, self).__init__()\n",
    "        \n",
    "        sigma = (1 / scale - 1) / 2\n",
    "        kernel_size = 2 * round(sigma * 4) + 1\n",
    "        self.ka = kernel_size // 2\n",
    "        self.kb = self.ka - 1 if kernel_size % 2 == 0 else self.ka\n",
    "\n",
    "        kernel_size = [kernel_size, kernel_size]\n",
    "        sigma = [sigma, sigma]\n",
    "        \n",
    "        # The gaussian kernel is the product of the\n",
    "        # gaussian function of each dimension.\n",
    "        kernel = 1\n",
    "        meshgrids = torch.meshgrid(\n",
    "            [torch.arange(size, dtype=torch.float32) for size in kernel_size]\n",
    "        )\n",
    "        \n",
    "        for size, std, mgrid in zip(kernel_size, sigma, meshgrids):\n",
    "            mean = (size - 1) / 2\n",
    "            kernel *= torch.exp(-(mgrid - mean) ** 2 / (2 * std ** 2))\n",
    "\n",
    "        # Make sure sum of values in gaussian kernel equals 1.\n",
    "        kernel = kernel / torch.sum(kernel)\n",
    "        # Reshape to depthwise convolutional weight\n",
    "        kernel = kernel.view(1, 1, *kernel.size())\n",
    "        kernel = kernel.repeat(channels, *[1] * (kernel.dim() - 1))\n",
    "\n",
    "        self.register_buffer('weight', kernel)\n",
    "        self.groups = channels\n",
    "        self.scale = scale\n",
    "\n",
    "    def forward(self, input):\n",
    "        if self.scale == 1.0:\n",
    "            return input\n",
    "\n",
    "        out = F.pad(input, (self.ka, self.kb, self.ka, self.kb))\n",
    "        out = F.conv2d(out, weight=self.weight, groups=self.groups)\n",
    "        out = F.interpolate(out, scale_factor=(self.scale, self.scale))\n",
    "\n",
    "        return out"
   ]
  }
 ],
 "metadata": {
  "kernelspec": {
   "display_name": "Python [conda env:deep_animator]",
   "language": "python",
   "name": "conda-env-deep_animator-py"
  }
 },
 "nbformat": 4,
 "nbformat_minor": 4
}
