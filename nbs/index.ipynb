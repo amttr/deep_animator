{
 "cells": [
  {
   "cell_type": "markdown",
   "metadata": {},
   "source": [
    "# Deep Animator\n",
    "\n",
    "> Image animation given a driving video sequence and a source image."
   ]
  },
  {
   "cell_type": "markdown",
   "metadata": {},
   "source": [
    "Deep Animator is an implementation of [First Order Motion Model for Image Animation](https://papers.nips.cc/paper/8935-first-order-motion-model-for-image-animation) by [Aliaksandr Siarohin](https://github.com/AliaksandrSiarohin), [Stéphane Lathuilière](http://stelat.eu/), [Sergey Tulyakov](http://www.stulyakov.com/), [Elisa Ricci](http://elisaricci.eu/) and [Nicu Sebe](http://disi.unitn.it/~sebe/). \n",
    "\n",
    "The source code can be found [here](https://github.com/AliaksandrSiarohin/first-order-model). **This library is a simple transformation of the original code into a shell script for quick experimentation**. This is also an educational effort for the writer. "
   ]
  },
  {
   "cell_type": "markdown",
   "metadata": {},
   "source": [
    "## Install"
   ]
  },
  {
   "cell_type": "markdown",
   "metadata": {},
   "source": [
    "Run `pip install deep_animator` to install the library in your environment."
   ]
  },
  {
   "cell_type": "markdown",
   "metadata": {},
   "source": [
    "## How to use"
   ]
  },
  {
   "cell_type": "markdown",
   "metadata": {},
   "source": [
    "First you need to download the weights of the model [here](https://drive.google.com/file/d/1zqa0la8FKchq62gRJMMvDGVhinf3nBEx/view?usp=sharing). Then just run the following command.\n",
    "\n",
    "`deep_animate <path_to_the_source_image> <path_to_the_driving_video> <path_to_yaml_conf> <path_to_model_weights>`\n",
    "\n",
    "* Example of source image [here](https://drive.google.com/file/d/1ACSKOfQUHbSEWmPu4Ndss7bkrPVK5WBR/view?usp=sharing)\n",
    "* Example of driving video [here](https://drive.google.com/file/d/103PEtO2QO45XwCNLYIzMcW3aRdbOhS1D/view?usp=sharing)\n",
    "\n",
    "An example YAML file is given below:\n",
    "\n",
    "```\n",
    "model_params:\n",
    "  common_params:\n",
    "    num_kp: 10\n",
    "    num_channels: 3\n",
    "    estimate_jacobian: True\n",
    "  kp_detector_params:\n",
    "     temperature: 0.1\n",
    "     block_expansion: 32\n",
    "     max_features: 1024\n",
    "     scale_factor: 0.25\n",
    "     num_blocks: 5\n",
    "  generator_params:\n",
    "    block_expansion: 64\n",
    "    max_features: 512\n",
    "    num_down_blocks: 2\n",
    "    num_bottleneck_blocks: 6\n",
    "    estimate_occlusion_map: True\n",
    "    dense_motion_params:\n",
    "      block_expansion: 64\n",
    "      max_features: 1024\n",
    "      num_blocks: 5\n",
    "      scale_factor: 0.25\n",
    "  discriminator_params:\n",
    "    scales: [1]\n",
    "    block_expansion: 32\n",
    "    max_features: 512\n",
    "    num_blocks: 4\n",
    "    sn: True\n",
    "```"
   ]
  }
 ],
 "metadata": {
  "kernelspec": {
   "display_name": "Python 3",
   "language": "python",
   "name": "python3"
  }
 },
 "nbformat": 4,
 "nbformat_minor": 4
}
