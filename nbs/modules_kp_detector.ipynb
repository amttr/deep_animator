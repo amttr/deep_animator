{
 "cells": [
  {
   "cell_type": "code",
   "execution_count": null,
   "metadata": {},
   "outputs": [],
   "source": [
    "# default_exp modules.kp_detector"
   ]
  },
  {
   "cell_type": "markdown",
   "metadata": {},
   "source": [
    "# Keypoint Detector\n",
    "\n",
    "> Network architecture for the keypoint detector."
   ]
  },
  {
   "cell_type": "code",
   "execution_count": null,
   "metadata": {},
   "outputs": [],
   "source": [
    "# hide\n",
    "from nbdev.showdoc import *"
   ]
  },
  {
   "cell_type": "code",
   "execution_count": null,
   "metadata": {},
   "outputs": [],
   "source": [
    "# export\n",
    "import torch\n",
    "import torch.nn.functional as F\n",
    "\n",
    "from torch import nn\n",
    "\n",
    "from deep_animator.modules.utils import Hourglass, AntiAliasInterpolation2d, gaussian2kp"
   ]
  },
  {
   "cell_type": "code",
   "execution_count": null,
   "metadata": {},
   "outputs": [],
   "source": [
    "# export\n",
    "class KPDetector(nn.Module):\n",
    "    \"\"\"Detects main keypoints. Return keypoint position and jacobian near each keypoint.\"\"\"\n",
    "    def __init__(self, block_expansion, num_kp, num_channels, max_features,\n",
    "                 num_blocks, temperature, estimate_jacobian=False, scale_factor=1,\n",
    "                 single_jacobian_map=False, pad=0):\n",
    "        super(KPDetector, self).__init__()\n",
    "\n",
    "        self.predictor = Hourglass(block_expansion, in_features=num_channels,\n",
    "                                   max_features=max_features, num_blocks=num_blocks)\n",
    "\n",
    "        self.kp = nn.Conv2d(in_channels=self.predictor.out_filters, out_channels=num_kp, kernel_size=(7, 7),\n",
    "                            padding=pad)\n",
    "\n",
    "        if estimate_jacobian:\n",
    "            self.num_jacobian_maps = 1 if single_jacobian_map else num_kp\n",
    "            self.jacobian = nn.Conv2d(in_channels=self.predictor.out_filters,\n",
    "                                      out_channels=4 * self.num_jacobian_maps, kernel_size=(7, 7), padding=pad)\n",
    "            self.jacobian.weight.data.zero_()\n",
    "            self.jacobian.bias.data.copy_(torch.tensor([1, 0, 0, 1] * self.num_jacobian_maps, dtype=torch.float))\n",
    "        else:\n",
    "            self.jacobian = None\n",
    "\n",
    "        self.temperature = temperature\n",
    "        self.scale_factor = scale_factor\n",
    "        if self.scale_factor != 1:\n",
    "            self.down = AntiAliasInterpolation2d(num_channels, self.scale_factor)\n",
    "\n",
    "    def forward(self, x):\n",
    "        if self.scale_factor != 1:\n",
    "            x = self.down(x)\n",
    "\n",
    "        feature_map = self.predictor(x)\n",
    "        prediction = self.kp(feature_map)\n",
    "\n",
    "        final_shape = prediction.shape\n",
    "        heatmap = prediction.view(final_shape[0], final_shape[1], -1)\n",
    "        heatmap = F.softmax(heatmap / self.temperature, dim=2)\n",
    "        heatmap = heatmap.view(*final_shape)\n",
    "\n",
    "        out = self.gaussian2kp(heatmap)\n",
    "\n",
    "        if self.jacobian is not None:\n",
    "            jacobian_map = self.jacobian(feature_map)\n",
    "            jacobian_map = jacobian_map.reshape(final_shape[0], self.num_jacobian_maps, 4, final_shape[2],\n",
    "                                                final_shape[3])\n",
    "            heatmap = heatmap.unsqueeze(2)\n",
    "\n",
    "            jacobian = heatmap * jacobian_map\n",
    "            jacobian = jacobian.view(final_shape[0], final_shape[1], 4, -1)\n",
    "            jacobian = jacobian.sum(dim=-1)\n",
    "            jacobian = jacobian.view(jacobian.shape[0], jacobian.shape[1], 2, 2)\n",
    "            out['jacobian'] = jacobian\n",
    "\n",
    "        return out"
   ]
  }
 ],
 "metadata": {
  "kernelspec": {
   "display_name": "Python [conda env:deep_animator]",
   "language": "python",
   "name": "conda-env-deep_animator-py"
  }
 },
 "nbformat": 4,
 "nbformat_minor": 4
}
